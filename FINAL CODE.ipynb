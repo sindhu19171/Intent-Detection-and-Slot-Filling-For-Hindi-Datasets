{
 "cells": [
  {
   "cell_type": "markdown",
   "id": "ec87a62f-1014-4793-b9e7-dc0133815394",
   "metadata": {},
   "source": [
    " <center>\n",
    "     \n",
    "# PROJECT:\n",
    "\n",
    "# Performing Intent Detection & Slot filling on Hindi Dataset and optimising using GA\n",
    " \n",
    "# Group-2 \n",
    "</center>"
   ]
  },
  {
   "cell_type": "markdown",
   "id": "56d184fe-ec8c-4aa4-89c3-8e62e81a8a2b",
   "metadata": {},
   "source": [
    "<center>Translating English ATIS Dataset to Hindi Dataset</center>"
   ]
  },
  {
   "cell_type": "markdown",
   "id": "2f6ecde7-76a8-4710-9c6a-e45156cebe22",
   "metadata": {},
   "source": [
    "TRANSLATION:\n",
    "\n",
    "Work Done by-\n",
    "    <br>   oAman Raj (21je0087)\n",
    "    <br>   o Sai Pranav (21je0279) \r"
   ]
  },
  {
   "cell_type": "code",
   "execution_count": 17,
   "id": "a8187e26-e49d-4ac1-acf0-8b406ee84f03",
   "metadata": {},
   "outputs": [],
   "source": [
    "from googletrans import Translator\n",
    "import json\n",
    "\n",
    "def translate_dataset(input_file, output_file):\n",
    "    translator = Translator()\n",
    "    with open(input_file, 'r', encoding='utf-8') as f:\n",
    "        dataset = json.load(f)\n",
    "    \n",
    "    translated_dataset = []\n",
    "    for sample in dataset:\n",
    "        try:\n",
    "            utterance = translator.translate(sample['utterance'], src='en', dest='hi').text\n",
    "            intent = sample['intent']\n",
    "            slots = {}\n",
    "            for slot, value in sample['slots'].items():\n",
    "                translated_slot = translator.translate(slot, src='en', dest='hi').text\n",
    "                translated_value = translator.translate(value, src='en', dest='hi').text\n",
    "                slots[translated_slot] = translated_value\n",
    "            \n",
    "            translated_sample = {\n",
    "                'utterance': utterance,\n",
    "                'intent': intent,\n",
    "                'slots': slots\n",
    "            }\n",
    "            translated_dataset.append(translated_sample)\n",
    "        except Exception as e:\n",
    "            pass\n",
    "    \n",
    "    with open(output_file, 'w', encoding='utf-8') as f:\n",
    "        json.dump(translated_dataset, f, ensure_ascii=False, indent=4)\n",
    "\n",
    "# Usage\n",
    "translate_dataset('English_dataset.json', 'Hindi_dataset.json')\n"
   ]
  },
  {
   "cell_type": "code",
   "execution_count": 20,
   "id": "a50c1137-9b2c-4643-bdba-28fb40b067da",
   "metadata": {},
   "outputs": [
    {
     "name": "stdout",
     "output_type": "stream",
     "text": [
      "Preprocessed sample\n",
      "{'utterance': 'आज मेरी उड़ान क्यों है?', 'intent': 'Flight Status Inquiry', 'slots': {'तारीख': 'आज'}}\n"
     ]
    }
   ],
   "source": [
    "import json\n",
    "import re\n",
    "from sklearn.model_selection import train_test_split\n",
    "\n",
    "# Load the dataset\n",
    "with open('Hindi_dataset.json', 'r', encoding='utf-8') as file:\n",
    "    dataset = json.load(file)\n",
    "\n",
    "# Preprocess/clean the dataset\n",
    "def clean_text(text):\n",
    "    # Remove non-alphanumeric characters except spaces\n",
    "    text = re.sub(r'[^a-zA-Z0-9\\s]', '', text)\n",
    "    # Convert to lowercase\n",
    "    text = text.lower()\n",
    "    return text\n",
    "\n",
    "# Print one sample\n",
    "print(\"Preprocessed sample\")\n",
    "print(dataset[0])  "
   ]
  },
  {
   "cell_type": "markdown",
   "id": "188be1db-72d8-4619-ad07-ce779a63e8f9",
   "metadata": {},
   "source": [
    "<center> Splitting the dataset into Training, Testing, Validation Sets</center>"
   ]
  },
  {
   "cell_type": "markdown",
   "id": "446585ac-7ae5-47ae-a029-c10480039256",
   "metadata": {},
   "source": [
    "Work done by-\n",
    "<br>o Adari Sameera (21je0032) \n",
    "<br>o Gaddam Pallavi (21je0338) \n"
   ]
  },
  {
   "cell_type": "code",
   "execution_count": 21,
   "id": "aa274f2c-8b9d-4e4c-ad0a-ac5bcb0aec41",
   "metadata": {},
   "outputs": [
    {
     "name": "stdout",
     "output_type": "stream",
     "text": [
      "Size of Training Dataset:\n",
      "94\n",
      "Size of Testing Dataset:\n",
      "27\n",
      "Size of Validation Dataset:\n",
      "11\n"
     ]
    }
   ],
   "source": [
    "# Split dataset into training, testing, and cross-validation sets\n",
    "train_data, test_data = train_test_split(dataset, test_size=0.2, random_state=42)\n",
    "train_data, val_data = train_test_split(train_data, test_size=0.1, random_state=42)\n",
    "\n",
    "# Save the split datasets\n",
    "with open('train_data.json', 'w', encoding='utf-8') as file:\n",
    "    json.dump(train_data, file, ensure_ascii=False, indent=4)\n",
    "\n",
    "with open('test_data.json', 'w', encoding='utf-8') as file:\n",
    "    json.dump(test_data, file, ensure_ascii=False, indent=4)\n",
    "\n",
    "with open('val_data.json', 'w', encoding='utf-8') as file:\n",
    "    json.dump(val_data, file, ensure_ascii=False, indent=4)\n",
    "\n",
    "#print sizes of training, testing, and cross-validation sets\n",
    "print(\"Size of Training Dataset:\")\n",
    "print(len(train_data))\n",
    "print(\"Size of Testing Dataset:\")\n",
    "print(len(test_data))\n",
    "print(\"Size of Validation Dataset:\")\n",
    "print(len(val_data))"
   ]
  },
  {
   "cell_type": "code",
   "execution_count": 22,
   "id": "d742249b-0dd0-4ddd-a3ad-aff16fef0417",
   "metadata": {},
   "outputs": [],
   "source": [
    "# Load the datasets\n",
    "with open('train_data.json', 'r', encoding='utf-8') as file:\n",
    "    train_data = json.load(file)\n",
    "\n",
    "with open('val_data.json', 'r', encoding='utf-8') as file:\n",
    "    val_data = json.load(file)\n",
    "\n",
    "with open('test_data.json', 'r', encoding='utf-8') as file:\n",
    "    test_data = json.load(file)"
   ]
  },
  {
   "cell_type": "markdown",
   "id": "1aa5eee5-c351-47b5-8069-bc5b4202504b",
   "metadata": {},
   "source": [
    "<center>Intent Detection using Bert</center>"
   ]
  },
  {
   "cell_type": "markdown",
   "id": "77a441b2-a997-4923-8299-49bb2387e750",
   "metadata": {},
   "source": [
    "Work Done By-\n",
    "<br>o Thamatam Pradeep (21je0990) \r",
    "<br>\n",
    "o Tanush Garg (20je1020)\r\n"
   ]
  },
  {
   "cell_type": "code",
   "execution_count": 23,
   "id": "1c30d04d-dce8-40ff-b29e-8f3367db703d",
   "metadata": {},
   "outputs": [],
   "source": [
    "#Libraries Used for intent detection\n",
    "import torch\n",
    "import torch.nn as nn\n",
    "from transformers import BertTokenizer, BertForSequenceClassification\n",
    "from torch.utils.data import DataLoader, Dataset\n",
    "from sklearn.metrics import accuracy_score\n",
    "import json\n",
    "import matplotlib.pyplot as plt"
   ]
  },
  {
   "cell_type": "code",
   "execution_count": 24,
   "id": "d29dae30-f606-4519-ab35-0d3108881ba4",
   "metadata": {},
   "outputs": [],
   "source": [
    "# Combine intent labels from both training and validation datasets\n",
    "intent_labels = set([data_point['intent'] for data_point in train_data] + [data_point['intent'] for data_point in val_data])\n",
    "\n",
    "# Map intent labels to numerical indices\n",
    "intent_label_map = {label: idx for idx, label in enumerate(intent_labels)}\n",
    "\n",
    "# Define a custom dataset class\n",
    "class IntentDataset(Dataset):\n",
    "    def __init__(self, data, tokenizer, max_len, intent_label_map):\n",
    "        self.data = data\n",
    "        self.tokenizer = tokenizer\n",
    "        self.max_len = max_len\n",
    "        self.intent_label_map = intent_label_map\n",
    "\n",
    "    def __len__(self):\n",
    "        return len(self.data)\n",
    "\n",
    "    def __getitem__(self, idx):\n",
    "        utterance = self.data[idx]['utterance']\n",
    "        intent = self.data[idx]['intent']\n",
    "\n",
    "        # Update the tokenizer.encode_plus method to use padding=True\n",
    "        encoding = self.tokenizer.encode_plus(\n",
    "    utterance,\n",
    "    add_special_tokens=True,\n",
    "    max_length=self.max_len,\n",
    "    return_token_type_ids=False,\n",
    "    padding='max_length',  # Use padding=True instead of pad_to_max_length\n",
    "    return_attention_mask=True,\n",
    "    return_tensors='pt',\n",
    "    truncation=True\n",
    ")\n",
    "\n",
    "\n",
    "        return {\n",
    "            'input_ids': encoding['input_ids'].flatten(),\n",
    "            'attention_mask': encoding['attention_mask'].flatten(),\n",
    "            'intent': torch.tensor(self.intent_label_map[intent])  # Map intent label to numerical index\n",
    "        }"
   ]
  },
  {
   "cell_type": "code",
   "execution_count": 25,
   "id": "660b7e48-1609-4fa2-ad9f-d60299bd4167",
   "metadata": {},
   "outputs": [
    {
     "name": "stderr",
     "output_type": "stream",
     "text": [
      "Some weights of BertForSequenceClassification were not initialized from the model checkpoint at bert-base-multilingual-cased and are newly initialized: ['classifier.bias', 'classifier.weight']\n",
      "You should probably TRAIN this model on a down-stream task to be able to use it for predictions and inference.\n"
     ]
    },
    {
     "name": "stdout",
     "output_type": "stream",
     "text": [
      "Epoch 1/10, Loss: 21.34467101097107\n",
      "Epoch 2/10, Loss: 19.522290468215942\n",
      "Epoch 3/10, Loss: 18.50565791130066\n",
      "Epoch 4/10, Loss: 17.318867921829224\n",
      "Epoch 5/10, Loss: 16.385982751846313\n",
      "Epoch 6/10, Loss: 15.306236267089844\n",
      "Epoch 7/10, Loss: 14.429723381996155\n",
      "Epoch 8/10, Loss: 13.570236682891846\n",
      "Epoch 9/10, Loss: 12.751965999603271\n",
      "Epoch 10/10, Loss: 12.13326370716095\n"
     ]
    },
    {
     "data": {
      "image/png": "[encoded data removed]",
      "text/plain": [
       "<Figure size 640x480 with 1 Axes>"
      ]
     },
     "metadata": {},
     "output_type": "display_data"
    },
    {
     "name": "stdout",
     "output_type": "stream",
     "text": [
      "Validation Accuracy: 0.5454545454545454\n"
     ]
    }
   ],
   "source": [
    "# Define parameters\n",
    "MAX_LEN = 128\n",
    "BATCH_SIZE = 16\n",
    "LEARNING_RATE = 2e-5\n",
    "EPOCHS = 10\n",
    "\n",
    "# Load pre-trained mBERT model and tokenizer\n",
    "tokenizer = BertTokenizer.from_pretrained('bert-base-multilingual-cased')\n",
    "model = BertForSequenceClassification.from_pretrained('bert-base-multilingual-cased', num_labels=len(intent_label_map))\n",
    "\n",
    "# Fine-tune the entire model\n",
    "optimizer = torch.optim.AdamW(model.parameters(), lr=LEARNING_RATE)\n",
    "\n",
    "# Create instances of dataset and dataloader\n",
    "train_dataset = IntentDataset(train_data, tokenizer, MAX_LEN, intent_label_map)\n",
    "val_dataset = IntentDataset(val_data, tokenizer, MAX_LEN, intent_label_map)\n",
    "\n",
    "train_loader = DataLoader(train_dataset, batch_size=BATCH_SIZE, shuffle=True)\n",
    "val_loader = DataLoader(val_dataset, batch_size=BATCH_SIZE, shuffle=False)\n",
    "\n",
    "# Define loss function and optimizer\n",
    "criterion = nn.CrossEntropyLoss()\n",
    "optimizer = torch.optim.AdamW(model.parameters(), lr=LEARNING_RATE)\n",
    "\n",
    "# Training loop\n",
    "device = torch.device('cuda' if torch.cuda.is_available() else 'cpu')\n",
    "model = model.to(device)\n",
    "\n",
    "val_a=0\n",
    "losses = []\n",
    "\n",
    "for epoch in range(EPOCHS):\n",
    "    model.train()\n",
    "    running_loss = 0.0\n",
    "\n",
    "    for batch in train_loader:\n",
    "        input_ids = batch['input_ids'].to(device)\n",
    "        attention_mask = batch['attention_mask'].to(device)\n",
    "        intent = batch['intent'].to(device)\n",
    "\n",
    "        optimizer.zero_grad()\n",
    "\n",
    "        outputs = model(input_ids, attention_mask=attention_mask, labels=intent)  # Include labels parameter\n",
    "        loss = outputs.loss  # Calculate loss from the outputs\n",
    "        loss.backward()\n",
    "        optimizer.step()\n",
    "\n",
    "        running_loss += loss.item()\n",
    "\n",
    "    # Validation\n",
    "    model.eval()\n",
    "    val_preds = []\n",
    "    val_targets = []\n",
    "\n",
    "    with torch.no_grad():\n",
    "        for batch in val_loader:\n",
    "            input_ids = batch['input_ids'].to(device)\n",
    "            attention_mask = batch['attention_mask'].to(device)\n",
    "            intent = batch['intent'].to(device)\n",
    "\n",
    "            outputs = model(input_ids, attention_mask=attention_mask)\n",
    "            logits = outputs.logits\n",
    "\n",
    "            _, preds = torch.max(logits, dim=1)\n",
    "            val_preds.extend(preds.cpu().numpy())\n",
    "            val_targets.extend(intent.cpu().numpy())\n",
    "\n",
    "    val_acc = accuracy_score(val_targets, val_preds)\n",
    "    print(f'Epoch {epoch+1}/{EPOCHS}, Loss: {running_loss}')\n",
    "    val_a=val_acc\n",
    "    losses.append(running_loss)\n",
    "\n",
    "# Plotting loss vs epochs\n",
    "plt.plot(range(1, EPOCHS+1), losses, label='Training Loss')\n",
    "plt.xlabel('Epochs')\n",
    "plt.ylabel('Loss')\n",
    "plt.title('Training Loss vs Epochs')\n",
    "plt.legend()\n",
    "plt.show()\n",
    "\n",
    "    \n",
    "print(f'Validation Accuracy: {val_acc}')"
   ]
  },
  {
   "cell_type": "markdown",
   "id": "37729999-e2d2-40b0-85d6-33c6ba7d8920",
   "metadata": {},
   "source": [
    "<center>Slot Filling </center>"
   ]
  },
  {
   "cell_type": "markdown",
   "id": "3ec7c8db-8f7e-4525-a060-113266b9a669",
   "metadata": {},
   "source": [
    "Work Done By-\n",
    "<br>o Suryarghya Saha (20je0998) \n",
    "<br>o Cherukuri Madhulika (21je0264) "
   ]
  },
  {
   "cell_type": "code",
   "execution_count": 28,
   "id": "3272e4ff-b3b1-4f92-9cd7-62a378299ea7",
   "metadata": {},
   "outputs": [],
   "source": [
    "#libraries used\n",
    "import torch\n",
    "import torch.nn as nn\n",
    "from transformers import BertTokenizer, BertModel\n",
    "from torch.utils.data import DataLoader, Dataset\n",
    "import json\n",
    "import matplotlib.pyplot as plt"
   ]
  },
  {
   "cell_type": "code",
   "execution_count": 29,
   "id": "b5f89b45-339c-4f75-ae95-6a0a810207c3",
   "metadata": {},
   "outputs": [],
   "source": [
    "# Load pre-trained BERT model and tokenizer\n",
    "tokenizer = BertTokenizer.from_pretrained('bert-base-multilingual-cased')\n",
    "bert_model = BertModel.from_pretrained('bert-base-multilingual-cased')\n",
    "\n",
    "class SlotFillDataset(Dataset):\n",
    "    def __init__(self, data, tokenizer, max_len):\n",
    "        self.data = data\n",
    "        self.tokenizer = tokenizer\n",
    "        self.max_len = max_len\n",
    "\n",
    "    def __len__(self):\n",
    "        return len(self.data)\n",
    "\n",
    "    def __getitem__(self, idx):\n",
    "        utterance = self.data[idx]['utterance']\n",
    "        slots = self.data[idx]['slots']\n",
    "\n",
    "        encoding = self.tokenizer.encode_plus(\n",
    "            utterance,\n",
    "            add_special_tokens=True,\n",
    "            max_length=self.max_len,\n",
    "            return_token_type_ids=False,\n",
    "            pad_to_max_length=True,\n",
    "            return_attention_mask=True,\n",
    "            return_tensors='pt',\n",
    "            truncation=True\n",
    "        )\n",
    "\n",
    "        # Convert slots to tensors if they are not already\n",
    "        if isinstance(slots, dict) and 'input_ids' in slots:\n",
    "            slots = torch.tensor(slots['input_ids'])  # Assuming 'input_ids' key contains slot values\n",
    "        else:\n",
    "            slots = torch.zeros(self.max_len, dtype=torch.long)  # Default to all zeros if 'input_ids' key is not present\n",
    "\n",
    "        return {\n",
    "            'input_ids': encoding['input_ids'].flatten(),\n",
    "            'attention_mask': encoding['attention_mask'].flatten(),\n",
    "            'slots': slots\n",
    "        }\n",
    "\n",
    "# Define BiLSTM-based slot filling model\n",
    "class SlotFillModel(nn.Module):\n",
    "    def __init__(self, hidden_size, num_classes):\n",
    "        super(SlotFillModel, self).__init__()\n",
    "        self.bert = bert_model\n",
    "        self.bilstm = nn.LSTM(bidirectional=True, num_layers=2, input_size=768, hidden_size=hidden_size, batch_first=True)\n",
    "        self.fc = nn.Linear(hidden_size * 2, num_classes)  # Multiply by 2 for bidirectional LSTM\n",
    "\n",
    "    def forward(self, input_ids, attention_mask):\n",
    "        outputs = self.bert(input_ids=input_ids, attention_mask=attention_mask)\n",
    "        bert_output = outputs.last_hidden_state\n",
    "        lstm_output, _ = self.bilstm(bert_output)\n",
    "        slot_logits = self.fc(lstm_output)\n",
    "        return slot_logits"
   ]
  },
  {
   "cell_type": "code",
   "execution_count": 30,
   "id": "c270794a-daea-419b-97ce-7f24f7518292",
   "metadata": {},
   "outputs": [
    {
     "name": "stderr",
     "output_type": "stream",
     "text": [
      "D:\\PYTHON&JUPYTER NOTEBOOK\\Lib\\site-packages\\transformers\\tokenization_utils_base.py:2688: FutureWarning: The `pad_to_max_length` argument is deprecated and will be removed in a future version, use `padding=True` or `padding='longest'` to pad to the longest sequence in the batch, or use `padding='max_length'` to pad to a max length. In this case, you can give a specific length with `max_length` (e.g. `max_length=45`) or leave max_length to None to pad to the maximal input size of the model (e.g. 512 for Bert).\n",
      "  warnings.warn(\n"
     ]
    },
    {
     "name": "stdout",
     "output_type": "stream",
     "text": [
      "Epoch 1/5, Loss: 11.541724443435669, Validation Loss: 1.5536105632781982\n",
      "Epoch 2/5, Loss: 8.57704508304596, Validation Loss: 1.2450419664382935\n",
      "Epoch 3/5, Loss: 7.176114201545715, Validation Loss: 1.093740463256836\n",
      "Epoch 4/5, Loss: 6.432607412338257, Validation Loss: 1.0008349418640137\n",
      "Epoch 5/5, Loss: 5.922153055667877, Validation Loss: 0.9303888082504272\n"
     ]
    },
    {
     "data": {
      "image/png": "[encoded data removed]",
      "text/plain": [
       "<Figure size 640x480 with 1 Axes>"
      ]
     },
     "metadata": {},
     "output_type": "display_data"
    }
   ],
   "source": [
    "# Define parameters\n",
    "MAX_LEN = 128\n",
    "BATCH_SIZE = 16\n",
    "HIDDEN_SIZE = 64\n",
    "NUM_CLASSES = 10  # Adjust this based on the number of slot labels in your dataset\n",
    "LEARNING_RATE = 2e-5\n",
    "EPOCHS = 5\n",
    "\n",
    "# Create instances of dataset and dataloader\n",
    "train_dataset = SlotFillDataset(train_data, tokenizer, MAX_LEN)\n",
    "val_dataset = SlotFillDataset(val_data, tokenizer, MAX_LEN)\n",
    "\n",
    "train_loader = DataLoader(train_dataset, batch_size=BATCH_SIZE, shuffle=True)\n",
    "val_loader = DataLoader(val_dataset, batch_size=BATCH_SIZE, shuffle=False)\n",
    "\n",
    "# Instantiate the model\n",
    "model = SlotFillModel(hidden_size=HIDDEN_SIZE, num_classes=NUM_CLASSES)\n",
    "\n",
    "# Define loss function and optimizer\n",
    "criterion = nn.CrossEntropyLoss()\n",
    "optimizer = torch.optim.AdamW(model.parameters(), lr=LEARNING_RATE)\n",
    "\n",
    "# Training loop\n",
    "device = torch.device('cuda' if torch.cuda.is_available() else 'cpu')\n",
    "model = model.to(device)\n",
    "\n",
    "# Lists to store loss for each epoch\n",
    "val_losses = []\n",
    "\n",
    "for epoch in range(EPOCHS):\n",
    "    model.train()\n",
    "    running_loss = 0.0\n",
    "\n",
    "    for batch in train_loader:\n",
    "        input_ids = batch['input_ids'].to(device)\n",
    "        attention_mask = batch['attention_mask'].to(device)\n",
    "        slots = batch['slots'].to(device)\n",
    "\n",
    "        optimizer.zero_grad()\n",
    "\n",
    "        slot_logits = model(input_ids, attention_mask)\n",
    "        loss = criterion(slot_logits.view(-1, NUM_CLASSES), slots.view(-1))\n",
    "        loss.backward()\n",
    "        optimizer.step()\n",
    "\n",
    "        running_loss += loss.item()\n",
    "\n",
    "    # Validation\n",
    "    model.eval()\n",
    "    val_loss = 0.0\n",
    "    with torch.no_grad():\n",
    "        for batch in val_loader:\n",
    "            input_ids = batch['input_ids'].to(device)\n",
    "            attention_mask = batch['attention_mask'].to(device)\n",
    "            slots = batch['slots'].to(device)\n",
    "\n",
    "            slot_logits = model(input_ids, attention_mask)\n",
    "            val_loss += criterion(slot_logits.view(-1, NUM_CLASSES), slots.view(-1)).item()\n",
    "\n",
    "    # Print validation loss\n",
    "    print(f'Epoch {epoch+1}/{EPOCHS}, Loss: {running_loss}, Validation Loss: {val_loss}')\n",
    "    # Append validation loss for plotting\n",
    "    val_losses.append(val_loss)\n",
    "\n",
    "# Plotting validation loss vs epochs\n",
    "plt.plot(range(1, EPOCHS+1), val_losses)\n",
    "plt.xlabel('Epochs')\n",
    "plt.ylabel('Validation Loss')\n",
    "plt.title('Validation Loss vs Epochs')\n",
    "plt.show()"
   ]
  },
  {
   "cell_type": "markdown",
   "id": "e01f43de-5f61-47c2-a8f2-b273014efee0",
   "metadata": {},
   "source": [
    "<center> Optimization Using Genetic Algorithm</center>"
   ]
  },
  {
   "cell_type": "markdown",
   "id": "1f08ce7c-87ef-4b07-8167-f4ed9e8ed186",
   "metadata": {},
   "source": [
    "Work Done by-\n",
    "<br>o Smriti Priyadarshani (23dp0098) \n",
    "<br>o Aman Rawat (20je0110) "
   ]
  },
  {
   "cell_type": "code",
   "execution_count": 32,
   "id": "9a4bda93-5521-4b64-8259-0fd7ef5515b4",
   "metadata": {},
   "outputs": [],
   "source": [
    "# Import necessary libraries\n",
    "import random\n",
    "from deap import base, creator, tools, algorithms"
   ]
  },
  {
   "cell_type": "code",
   "execution_count": 34,
   "id": "f4dc9671-b4ae-4da9-90b1-c6b960ffb0d4",
   "metadata": {},
   "outputs": [
    {
     "name": "stdout",
     "output_type": "stream",
     "text": [
      "Generation 1\n",
      "Best individual: [0.018906659323883843, 0.3487458339934118], Fitness: (0.9303888082504272,)\n",
      "Generation 2\n",
      "Best individual: [0.03466288223577364, -0.030782426955571256], Fitness: (0.9303888082504272,)\n",
      "Generation 3\n",
      "Best individual: [0.06528787912287992, -0.042551030467792794], Fitness: (0.9303888082504272,)\n",
      "Generation 4\n",
      "Best individual: [0.036872615515614486, 0.4225373193187302], Fitness: (0.9303888082504272,)\n",
      "Generation 5\n",
      "Best individual: [0.03466288223577364, -0.030782426955571256], Fitness: (0.9303888082504272,)\n",
      "Best Parameters after GA Optimization:\n",
      "[0.03466288223577364, -0.030782426955571256]\n"
     ]
    },
    {
     "name": "stderr",
     "output_type": "stream",
     "text": [
      "D:\\PYTHON&JUPYTER NOTEBOOK\\Lib\\site-packages\\deap\\creator.py:185: RuntimeWarning: A class named 'FitnessMin' has already been created and it will be overwritten. Consider deleting previous creation of that class or rename it.\n",
      "  warnings.warn(\"A class named '{0}' has already been created and it \"\n",
      "D:\\PYTHON&JUPYTER NOTEBOOK\\Lib\\site-packages\\deap\\creator.py:185: RuntimeWarning: A class named 'Individual' has already been created and it will be overwritten. Consider deleting previous creation of that class or rename it.\n",
      "  warnings.warn(\"A class named '{0}' has already been created and it \"\n"
     ]
    }
   ],
   "source": [
    "# Create a fitness class for minimizing validation loss\n",
    "creator.create(\"FitnessMin\", base.Fitness, weights=(-1.0,))\n",
    "creator.create(\"Individual\", list, fitness=creator.FitnessMin)\n",
    "\n",
    "# Define the evaluation function for slot filling\n",
    "def evaluate_slot_filling(individual):\n",
    "    # Extract parameters from the individual\n",
    "    hidden_size, learning_rate = individual\n",
    "    \n",
    "    # Return a tuple of validation loss\n",
    "    return (val_loss,)\n",
    "\n",
    "# # Define the evaluation function for intent detection\n",
    "# def evaluate_intent_detection(individual):\n",
    "#     # Extract parameters from the individual\n",
    "#     learning_rate, batch_size = individual\n",
    "    \n",
    "#     # Return a tuple of validation loss\n",
    "#     return (val_loss,) \n",
    "    \n",
    "# Create Toolbox\n",
    "toolbox = base.Toolbox()\n",
    "\n",
    "# Register genetic operators\n",
    "toolbox.register(\"attr_float\", random.uniform, 0.001, 0.1)  # For float attributes\n",
    "toolbox.register(\"individual\", tools.initRepeat, creator.Individual, toolbox.attr_float, n=2)\n",
    "toolbox.register(\"population\", tools.initRepeat, list, toolbox.individual)\n",
    "\n",
    "toolbox.register(\"mate\", tools.cxBlend, alpha=0.5)\n",
    "toolbox.register(\"mutate\", tools.mutGaussian, mu=0, sigma=0.1, indpb=0.2)\n",
    "toolbox.register(\"select\", tools.selTournament, tournsize=3)\n",
    "toolbox.register(\"evaluate\", evaluate_slot_filling)  \n",
    "\n",
    "# Define parameters\n",
    "POP_SIZE = 10\n",
    "GEN = 5\n",
    "\n",
    "# Initialize population\n",
    "population = toolbox.population(n=POP_SIZE)\n",
    "\n",
    "# Run the Genetic Algorithm\n",
    "best_individuals = []\n",
    "for gen in range(GEN):\n",
    "    print(f\"Generation {gen+1}\")\n",
    "    offspring = algorithms.varAnd(population, toolbox, cxpb=0.5, mutpb=0.1)\n",
    "    fits = toolbox.map(toolbox.evaluate, offspring)\n",
    "    for fit, ind in zip(fits, offspring):\n",
    "        ind.fitness.values = fit\n",
    "    population = toolbox.select(offspring + population, k=POP_SIZE)\n",
    "    \n",
    "    best_individual = tools.selBest(population, k=1)[0]\n",
    "    best_individuals.append(best_individual)\n",
    "    print(f\"Best individual: {best_individual}, Fitness: {best_individual.fitness.values}\")\n",
    "\n",
    "# Print the best parameters\n",
    "best_parameters = best_individuals[-1]\n",
    "print(\"Best Parameters after GA Optimization:\")\n",
    "print(best_parameters)"
   ]
  },
  {
   "cell_type": "markdown",
   "id": "b06e1b1b-dba2-428d-9c78-ec737d936339",
   "metadata": {},
   "source": [
    "<center>Presented by Group-2:</center>\n",
    "<br>o Thamatam Pradeep (21je0990)\n",
    "<br>o Aman Raj (21je0087) \n",
    "<br>o Sai Pranav (21je0279)\n",
    "<br>o Adari Sameera (21je0032) \n",
    "<br>o Gaddam Pallavi (21je0338) \n",
    "<br>o Cherukuri Madhulika (21je0264) \n",
    "<br>o Smriti Priyadarshani (23dp0098) \n",
    "<br>o Tanush Garg (20je1020) \n",
    "<br>o Suryarghya Saha (20je0998)\n",
    "<br>o Aman Rawat (20je0110) r>"
   ]
  },
  {
   "cell_type": "code",
   "execution_count": null,
   "id": "d6b4fb81-6f24-428e-a570-3da9f0253109",
   "metadata": {},
   "outputs": [],
   "source": []
  }
 ],
 "metadata": {
  "kernelspec": {
   "display_name": "Python 3 (ipykernel)",
   "language": "python",
   "name": "python3"
  },
  "language_info": {
   "codemirror_mode": {
    "name": "ipython",
    "version": 3
   },
   "file_extension": ".py",
   "mimetype": "text/x-python",
   "name": "python",
   "nbconvert_exporter": "python",
   "pygments_lexer": "ipython3",
   "version": "3.12.1"
  }
 },
 "nbformat": 4,
 "nbformat_minor": 5
}
